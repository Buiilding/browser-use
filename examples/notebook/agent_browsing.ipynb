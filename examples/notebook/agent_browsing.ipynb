{
  "cells": [
    {
      "cell_type": "code",
      "execution_count": 26,
      "metadata": {
        "id": "ZRGlUb8O4fPV"
      },
      "outputs": [
        {
          "name": "stdout",
          "output_type": "stream",
          "text": [
            "Requirement already satisfied: langgraph in c:\\users\\peter\\anaconda3\\envs\\browser-use\\lib\\site-packages (0.3.18)\n",
            "Requirement already satisfied: langchain_google_genai in c:\\users\\peter\\anaconda3\\envs\\browser-use\\lib\\site-packages (2.1.0)\n",
            "Requirement already satisfied: langchain_community in c:\\users\\peter\\anaconda3\\envs\\browser-use\\lib\\site-packages (0.3.20)\n",
            "Requirement already satisfied: langgraph-checkpoint-postgres in c:\\users\\peter\\anaconda3\\envs\\browser-use\\lib\\site-packages (2.0.19)\n",
            "Requirement already satisfied: openai in c:\\users\\peter\\anaconda3\\envs\\browser-use\\lib\\site-packages (1.68.0)\n",
            "Requirement already satisfied: langchain_groq in c:\\users\\peter\\anaconda3\\envs\\browser-use\\lib\\site-packages (0.3.1)\n",
            "Requirement already satisfied: langchain-core<0.4,>=0.1 in c:\\users\\peter\\anaconda3\\envs\\browser-use\\lib\\site-packages (from langgraph) (0.3.47)\n",
            "Requirement already satisfied: langgraph-checkpoint<3.0.0,>=2.0.10 in c:\\users\\peter\\anaconda3\\envs\\browser-use\\lib\\site-packages (from langgraph) (2.0.21)\n",
            "Requirement already satisfied: langgraph-prebuilt<0.2,>=0.1.1 in c:\\users\\peter\\anaconda3\\envs\\browser-use\\lib\\site-packages (from langgraph) (0.1.3)\n",
            "Requirement already satisfied: langgraph-sdk<0.2.0,>=0.1.42 in c:\\users\\peter\\anaconda3\\envs\\browser-use\\lib\\site-packages (from langgraph) (0.1.58)\n",
            "Requirement already satisfied: filetype<2.0.0,>=1.2.0 in c:\\users\\peter\\anaconda3\\envs\\browser-use\\lib\\site-packages (from langchain_google_genai) (1.2.0)\n",
            "Requirement already satisfied: google-ai-generativelanguage<0.7.0,>=0.6.16 in c:\\users\\peter\\anaconda3\\envs\\browser-use\\lib\\site-packages (from langchain_google_genai) (0.6.17)\n",
            "Requirement already satisfied: pydantic<3,>=2 in c:\\users\\peter\\anaconda3\\envs\\browser-use\\lib\\site-packages (from langchain_google_genai) (2.10.6)\n",
            "Requirement already satisfied: langchain<1.0.0,>=0.3.21 in c:\\users\\peter\\anaconda3\\envs\\browser-use\\lib\\site-packages (from langchain_community) (0.3.21)\n",
            "Requirement already satisfied: SQLAlchemy<3,>=1.4 in c:\\users\\peter\\anaconda3\\envs\\browser-use\\lib\\site-packages (from langchain_community) (2.0.39)\n",
            "Requirement already satisfied: requests<3,>=2 in c:\\users\\peter\\anaconda3\\envs\\browser-use\\lib\\site-packages (from langchain_community) (2.32.3)\n",
            "Requirement already satisfied: PyYAML>=5.3 in c:\\users\\peter\\anaconda3\\envs\\browser-use\\lib\\site-packages (from langchain_community) (6.0.2)\n",
            "Requirement already satisfied: aiohttp<4.0.0,>=3.8.3 in c:\\users\\peter\\anaconda3\\envs\\browser-use\\lib\\site-packages (from langchain_community) (3.11.14)\n",
            "Requirement already satisfied: tenacity!=8.4.0,<10,>=8.1.0 in c:\\users\\peter\\anaconda3\\envs\\browser-use\\lib\\site-packages (from langchain_community) (9.0.0)\n",
            "Requirement already satisfied: dataclasses-json<0.7,>=0.5.7 in c:\\users\\peter\\anaconda3\\envs\\browser-use\\lib\\site-packages (from langchain_community) (0.6.7)\n",
            "Requirement already satisfied: pydantic-settings<3.0.0,>=2.4.0 in c:\\users\\peter\\anaconda3\\envs\\browser-use\\lib\\site-packages (from langchain_community) (2.8.1)\n",
            "Requirement already satisfied: langsmith<0.4,>=0.1.125 in c:\\users\\peter\\anaconda3\\envs\\browser-use\\lib\\site-packages (from langchain_community) (0.3.18)\n",
            "Requirement already satisfied: httpx-sse<1.0.0,>=0.4.0 in c:\\users\\peter\\anaconda3\\envs\\browser-use\\lib\\site-packages (from langchain_community) (0.4.0)\n",
            "Requirement already satisfied: numpy<3,>=1.26.2 in c:\\users\\peter\\anaconda3\\envs\\browser-use\\lib\\site-packages (from langchain_community) (2.2.4)\n",
            "Requirement already satisfied: orjson>=3.10.1 in c:\\users\\peter\\anaconda3\\envs\\browser-use\\lib\\site-packages (from langgraph-checkpoint-postgres) (3.10.15)\n",
            "Requirement already satisfied: psycopg<4.0.0,>=3.2.0 in c:\\users\\peter\\anaconda3\\envs\\browser-use\\lib\\site-packages (from langgraph-checkpoint-postgres) (3.2.6)\n",
            "Requirement already satisfied: psycopg-pool<4.0.0,>=3.2.0 in c:\\users\\peter\\anaconda3\\envs\\browser-use\\lib\\site-packages (from langgraph-checkpoint-postgres) (3.2.6)\n",
            "Requirement already satisfied: anyio<5,>=3.5.0 in c:\\users\\peter\\anaconda3\\envs\\browser-use\\lib\\site-packages (from openai) (3.7.1)\n",
            "Requirement already satisfied: distro<2,>=1.7.0 in c:\\users\\peter\\anaconda3\\envs\\browser-use\\lib\\site-packages (from openai) (1.9.0)\n",
            "Requirement already satisfied: httpx<1,>=0.23.0 in c:\\users\\peter\\anaconda3\\envs\\browser-use\\lib\\site-packages (from openai) (0.28.1)\n",
            "Requirement already satisfied: jiter<1,>=0.4.0 in c:\\users\\peter\\anaconda3\\envs\\browser-use\\lib\\site-packages (from openai) (0.9.0)\n",
            "Requirement already satisfied: sniffio in c:\\users\\peter\\anaconda3\\envs\\browser-use\\lib\\site-packages (from openai) (1.3.1)\n",
            "Requirement already satisfied: sounddevice>=0.5.1 in c:\\users\\peter\\anaconda3\\envs\\browser-use\\lib\\site-packages (from openai) (0.5.1)\n",
            "Requirement already satisfied: tqdm>4 in c:\\users\\peter\\anaconda3\\envs\\browser-use\\lib\\site-packages (from openai) (4.67.1)\n",
            "Requirement already satisfied: typing-extensions<5,>=4.11 in c:\\users\\peter\\anaconda3\\envs\\browser-use\\lib\\site-packages (from openai) (4.12.2)\n",
            "Requirement already satisfied: groq<1,>=0.4.1 in c:\\users\\peter\\anaconda3\\envs\\browser-use\\lib\\site-packages (from langchain_groq) (0.20.0)\n",
            "Requirement already satisfied: aiohappyeyeballs>=2.3.0 in c:\\users\\peter\\anaconda3\\envs\\browser-use\\lib\\site-packages (from aiohttp<4.0.0,>=3.8.3->langchain_community) (2.6.1)\n",
            "Requirement already satisfied: aiosignal>=1.1.2 in c:\\users\\peter\\anaconda3\\envs\\browser-use\\lib\\site-packages (from aiohttp<4.0.0,>=3.8.3->langchain_community) (1.3.2)\n",
            "Requirement already satisfied: attrs>=17.3.0 in c:\\users\\peter\\anaconda3\\envs\\browser-use\\lib\\site-packages (from aiohttp<4.0.0,>=3.8.3->langchain_community) (25.3.0)\n",
            "Requirement already satisfied: frozenlist>=1.1.1 in c:\\users\\peter\\anaconda3\\envs\\browser-use\\lib\\site-packages (from aiohttp<4.0.0,>=3.8.3->langchain_community) (1.5.0)\n",
            "Requirement already satisfied: multidict<7.0,>=4.5 in c:\\users\\peter\\anaconda3\\envs\\browser-use\\lib\\site-packages (from aiohttp<4.0.0,>=3.8.3->langchain_community) (6.2.0)\n",
            "Requirement already satisfied: propcache>=0.2.0 in c:\\users\\peter\\anaconda3\\envs\\browser-use\\lib\\site-packages (from aiohttp<4.0.0,>=3.8.3->langchain_community) (0.3.0)\n",
            "Requirement already satisfied: yarl<2.0,>=1.17.0 in c:\\users\\peter\\anaconda3\\envs\\browser-use\\lib\\site-packages (from aiohttp<4.0.0,>=3.8.3->langchain_community) (1.18.3)\n",
            "Requirement already satisfied: idna>=2.8 in c:\\users\\peter\\anaconda3\\envs\\browser-use\\lib\\site-packages (from anyio<5,>=3.5.0->openai) (3.10)\n",
            "Requirement already satisfied: marshmallow<4.0.0,>=3.18.0 in c:\\users\\peter\\anaconda3\\envs\\browser-use\\lib\\site-packages (from dataclasses-json<0.7,>=0.5.7->langchain_community) (3.26.1)\n",
            "Requirement already satisfied: typing-inspect<1,>=0.4.0 in c:\\users\\peter\\anaconda3\\envs\\browser-use\\lib\\site-packages (from dataclasses-json<0.7,>=0.5.7->langchain_community) (0.9.0)\n",
            "Requirement already satisfied: google-api-core!=2.0.*,!=2.1.*,!=2.10.*,!=2.2.*,!=2.3.*,!=2.4.*,!=2.5.*,!=2.6.*,!=2.7.*,!=2.8.*,!=2.9.*,<3.0.0,>=1.34.1 in c:\\users\\peter\\anaconda3\\envs\\browser-use\\lib\\site-packages (from google-api-core[grpc]!=2.0.*,!=2.1.*,!=2.10.*,!=2.2.*,!=2.3.*,!=2.4.*,!=2.5.*,!=2.6.*,!=2.7.*,!=2.8.*,!=2.9.*,<3.0.0,>=1.34.1->google-ai-generativelanguage<0.7.0,>=0.6.16->langchain_google_genai) (2.24.2)\n",
            "Requirement already satisfied: google-auth!=2.24.0,!=2.25.0,<3.0.0,>=2.14.1 in c:\\users\\peter\\anaconda3\\envs\\browser-use\\lib\\site-packages (from google-ai-generativelanguage<0.7.0,>=0.6.16->langchain_google_genai) (2.38.0)\n",
            "Requirement already satisfied: proto-plus<2.0.0,>=1.22.3 in c:\\users\\peter\\anaconda3\\envs\\browser-use\\lib\\site-packages (from google-ai-generativelanguage<0.7.0,>=0.6.16->langchain_google_genai) (1.26.1)\n",
            "Requirement already satisfied: protobuf!=4.21.0,!=4.21.1,!=4.21.2,!=4.21.3,!=4.21.4,!=4.21.5,<7.0.0,>=3.20.2 in c:\\users\\peter\\anaconda3\\envs\\browser-use\\lib\\site-packages (from google-ai-generativelanguage<0.7.0,>=0.6.16->langchain_google_genai) (5.29.4)\n",
            "Requirement already satisfied: certifi in c:\\users\\peter\\anaconda3\\envs\\browser-use\\lib\\site-packages (from httpx<1,>=0.23.0->openai) (2025.1.31)\n",
            "Requirement already satisfied: httpcore==1.* in c:\\users\\peter\\anaconda3\\envs\\browser-use\\lib\\site-packages (from httpx<1,>=0.23.0->openai) (1.0.7)\n",
            "Requirement already satisfied: h11<0.15,>=0.13 in c:\\users\\peter\\anaconda3\\envs\\browser-use\\lib\\site-packages (from httpcore==1.*->httpx<1,>=0.23.0->openai) (0.14.0)\n",
            "Requirement already satisfied: langchain-text-splitters<1.0.0,>=0.3.7 in c:\\users\\peter\\anaconda3\\envs\\browser-use\\lib\\site-packages (from langchain<1.0.0,>=0.3.21->langchain_community) (0.3.7)\n",
            "Requirement already satisfied: jsonpatch<2.0,>=1.33 in c:\\users\\peter\\anaconda3\\envs\\browser-use\\lib\\site-packages (from langchain-core<0.4,>=0.1->langgraph) (1.33)\n",
            "Requirement already satisfied: packaging<25,>=23.2 in c:\\users\\peter\\anaconda3\\envs\\browser-use\\lib\\site-packages (from langchain-core<0.4,>=0.1->langgraph) (24.2)\n",
            "Requirement already satisfied: msgpack<2.0.0,>=1.1.0 in c:\\users\\peter\\anaconda3\\envs\\browser-use\\lib\\site-packages (from langgraph-checkpoint<3.0.0,>=2.0.10->langgraph) (1.1.0)\n",
            "Requirement already satisfied: requests-toolbelt<2.0.0,>=1.0.0 in c:\\users\\peter\\anaconda3\\envs\\browser-use\\lib\\site-packages (from langsmith<0.4,>=0.1.125->langchain_community) (1.0.0)\n",
            "Requirement already satisfied: zstandard<0.24.0,>=0.23.0 in c:\\users\\peter\\anaconda3\\envs\\browser-use\\lib\\site-packages (from langsmith<0.4,>=0.1.125->langchain_community) (0.23.0)\n",
            "Requirement already satisfied: tzdata in c:\\users\\peter\\anaconda3\\envs\\browser-use\\lib\\site-packages (from psycopg<4.0.0,>=3.2.0->langgraph-checkpoint-postgres) (2025.1)\n",
            "Requirement already satisfied: annotated-types>=0.6.0 in c:\\users\\peter\\anaconda3\\envs\\browser-use\\lib\\site-packages (from pydantic<3,>=2->langchain_google_genai) (0.7.0)\n",
            "Requirement already satisfied: pydantic-core==2.27.2 in c:\\users\\peter\\anaconda3\\envs\\browser-use\\lib\\site-packages (from pydantic<3,>=2->langchain_google_genai) (2.27.2)\n",
            "Requirement already satisfied: python-dotenv>=0.21.0 in c:\\users\\peter\\anaconda3\\envs\\browser-use\\lib\\site-packages (from pydantic-settings<3.0.0,>=2.4.0->langchain_community) (1.0.1)\n",
            "Requirement already satisfied: charset-normalizer<4,>=2 in c:\\users\\peter\\anaconda3\\envs\\browser-use\\lib\\site-packages (from requests<3,>=2->langchain_community) (3.4.1)\n",
            "Requirement already satisfied: urllib3<3,>=1.21.1 in c:\\users\\peter\\anaconda3\\envs\\browser-use\\lib\\site-packages (from requests<3,>=2->langchain_community) (2.3.0)\n",
            "Requirement already satisfied: CFFI>=1.0 in c:\\users\\peter\\anaconda3\\envs\\browser-use\\lib\\site-packages (from sounddevice>=0.5.1->openai) (1.17.1)\n",
            "Requirement already satisfied: greenlet!=0.4.17 in c:\\users\\peter\\anaconda3\\envs\\browser-use\\lib\\site-packages (from SQLAlchemy<3,>=1.4->langchain_community) (3.1.1)\n",
            "Requirement already satisfied: colorama in c:\\users\\peter\\anaconda3\\envs\\browser-use\\lib\\site-packages (from tqdm>4->openai) (0.4.6)\n",
            "Requirement already satisfied: pycparser in c:\\users\\peter\\anaconda3\\envs\\browser-use\\lib\\site-packages (from CFFI>=1.0->sounddevice>=0.5.1->openai) (2.22)\n",
            "Requirement already satisfied: googleapis-common-protos<2.0.0,>=1.56.2 in c:\\users\\peter\\anaconda3\\envs\\browser-use\\lib\\site-packages (from google-api-core!=2.0.*,!=2.1.*,!=2.10.*,!=2.2.*,!=2.3.*,!=2.4.*,!=2.5.*,!=2.6.*,!=2.7.*,!=2.8.*,!=2.9.*,<3.0.0,>=1.34.1->google-api-core[grpc]!=2.0.*,!=2.1.*,!=2.10.*,!=2.2.*,!=2.3.*,!=2.4.*,!=2.5.*,!=2.6.*,!=2.7.*,!=2.8.*,!=2.9.*,<3.0.0,>=1.34.1->google-ai-generativelanguage<0.7.0,>=0.6.16->langchain_google_genai) (1.69.2)\n",
            "Requirement already satisfied: grpcio<2.0dev,>=1.33.2 in c:\\users\\peter\\anaconda3\\envs\\browser-use\\lib\\site-packages (from google-api-core[grpc]!=2.0.*,!=2.1.*,!=2.10.*,!=2.2.*,!=2.3.*,!=2.4.*,!=2.5.*,!=2.6.*,!=2.7.*,!=2.8.*,!=2.9.*,<3.0.0,>=1.34.1->google-ai-generativelanguage<0.7.0,>=0.6.16->langchain_google_genai) (1.71.0)\n",
            "Requirement already satisfied: grpcio-status<2.0.dev0,>=1.33.2 in c:\\users\\peter\\anaconda3\\envs\\browser-use\\lib\\site-packages (from google-api-core[grpc]!=2.0.*,!=2.1.*,!=2.10.*,!=2.2.*,!=2.3.*,!=2.4.*,!=2.5.*,!=2.6.*,!=2.7.*,!=2.8.*,!=2.9.*,<3.0.0,>=1.34.1->google-ai-generativelanguage<0.7.0,>=0.6.16->langchain_google_genai) (1.71.0)\n",
            "Requirement already satisfied: cachetools<6.0,>=2.0.0 in c:\\users\\peter\\anaconda3\\envs\\browser-use\\lib\\site-packages (from google-auth!=2.24.0,!=2.25.0,<3.0.0,>=2.14.1->google-ai-generativelanguage<0.7.0,>=0.6.16->langchain_google_genai) (5.5.2)\n",
            "Requirement already satisfied: pyasn1-modules>=0.2.1 in c:\\users\\peter\\anaconda3\\envs\\browser-use\\lib\\site-packages (from google-auth!=2.24.0,!=2.25.0,<3.0.0,>=2.14.1->google-ai-generativelanguage<0.7.0,>=0.6.16->langchain_google_genai) (0.4.1)\n",
            "Requirement already satisfied: rsa<5,>=3.1.4 in c:\\users\\peter\\anaconda3\\envs\\browser-use\\lib\\site-packages (from google-auth!=2.24.0,!=2.25.0,<3.0.0,>=2.14.1->google-ai-generativelanguage<0.7.0,>=0.6.16->langchain_google_genai) (4.9)\n",
            "Requirement already satisfied: jsonpointer>=1.9 in c:\\users\\peter\\anaconda3\\envs\\browser-use\\lib\\site-packages (from jsonpatch<2.0,>=1.33->langchain-core<0.4,>=0.1->langgraph) (3.0.0)\n",
            "Requirement already satisfied: mypy-extensions>=0.3.0 in c:\\users\\peter\\anaconda3\\envs\\browser-use\\lib\\site-packages (from typing-inspect<1,>=0.4.0->dataclasses-json<0.7,>=0.5.7->langchain_community) (1.0.0)\n",
            "Requirement already satisfied: pyasn1<0.7.0,>=0.4.6 in c:\\users\\peter\\anaconda3\\envs\\browser-use\\lib\\site-packages (from pyasn1-modules>=0.2.1->google-auth!=2.24.0,!=2.25.0,<3.0.0,>=2.14.1->google-ai-generativelanguage<0.7.0,>=0.6.16->langchain_google_genai) (0.6.1)\n",
            "Note: you may need to restart the kernel to use updated packages.\n"
          ]
        }
      ],
      "source": [
        "%pip install -U langgraph langchain_google_genai langchain_community langgraph-checkpoint-postgres  openai langchain_groq"
      ]
    },
    {
      "cell_type": "code",
      "execution_count": 27,
      "metadata": {
        "id": "cMfPUmHIxqTi"
      },
      "outputs": [
        {
          "name": "stderr",
          "output_type": "stream",
          "text": [
            "The system cannot find the path specified.\n"
          ]
        }
      ],
      "source": [
        "%%capture --no-stderr\n",
        "%pip install --upgrade --quiet  playwright > /dev/null\n",
        "%pip install --upgrade --quiet  lxml browser-use langchain_openai"
      ]
    },
    {
      "cell_type": "code",
      "execution_count": 28,
      "metadata": {
        "id": "kkZ7jVUOUV7Q"
      },
      "outputs": [],
      "source": [
        "!playwright install"
      ]
    },
    {
      "cell_type": "code",
      "execution_count": 29,
      "metadata": {
        "id": "-_T1MhnGUl2q"
      },
      "outputs": [
        {
          "name": "stdout",
          "output_type": "stream",
          "text": [
            "Requirement already satisfied: anyio<4 in c:\\users\\peter\\anaconda3\\envs\\browser-use\\lib\\site-packages (3.7.1)\n",
            "Requirement already satisfied: idna>=2.8 in c:\\users\\peter\\anaconda3\\envs\\browser-use\\lib\\site-packages (from anyio<4) (3.10)\n",
            "Requirement already satisfied: sniffio>=1.1 in c:\\users\\peter\\anaconda3\\envs\\browser-use\\lib\\site-packages (from anyio<4) (1.3.1)\n"
          ]
        }
      ],
      "source": [
        "!pip install \"anyio<4\""
      ]
    },
    {
      "cell_type": "code",
      "execution_count": 30,
      "metadata": {
        "id": "yARYirp1UhDR"
      },
      "outputs": [],
      "source": [
        "# This import is required only for jupyter notebooks, since they have their own eventloop\n",
        "import nest_asyncio\n",
        "\n",
        "nest_asyncio.apply()"
      ]
    },
    {
      "cell_type": "code",
      "execution_count": null,
      "metadata": {},
      "outputs": [],
      "source": [
        "from langchain_ollama import ChatOllama\n",
        "from google.colab import userdata\n",
        "\n",
        "# For Ollama local setup\n",
        "llm = ChatOllama(\n",
        "    model=\"qwen2.5:7b\",\n",
        "    num_ctx=32000,  \n",
        "    )"
      ]
    },
    {
      "cell_type": "code",
      "execution_count": null,
      "metadata": {},
      "outputs": [],
      "source": [
        "from browser_use import Agent, Browser\n",
        "from browser_use import BrowserConfig\n",
        "from langchain_ollama import ChatOllama\n",
        "\n",
        "import sys\n",
        "import asyncio\n",
        "import nest_asyncio\n",
        "\n",
        "# Apply nest_asyncio to allow nested event loops in Jupyter\n",
        "nest_asyncio.apply()\n",
        "\n",
        "# Use WindowsSelectorEventLoopPolicy on Windows\n",
        "if sys.platform.startswith('win'):\n",
        "    asyncio.set_event_loop_policy(asyncio.WindowsSelectorEventLoopPolicy())\n",
        "\n",
        "llm = ChatOllama(\n",
        "    model=\"qwen2.5:7b\",\n",
        "    num_ctx=32000,  \n",
        "    )\n",
        "\n",
        "# Basic configuration for the browser\n",
        "config = BrowserConfig(\n",
        "    headless=True,  # Run in headless mode\n",
        "    # disable_security=True  # Uncomment if you want to disable security\n",
        ")\n",
        "\n",
        "# Initialize the browser with the specified configuration\n",
        "browser = Browser(config=config)\n",
        "\n",
        "async def main():\n",
        "    # Initialize the agent with the task and language model\n",
        "    agent = Agent(\n",
        "        task=\"What is Langgraph\",\n",
        "        llm=llm,  # Replace with your LLM configuration\n",
        "        browser=browser,\n",
        "        generate_gif=False  # Disable GIF generation\n",
        "    )\n",
        "\n",
        "    # Run the agent and get results asynchronously\n",
        "    result = await agent.run()\n",
        "\n",
        "    # Process results token-wise\n",
        "    for action in result.action_results():\n",
        "      print(action.extracted_content,end=\"\\r\",flush=True)\n",
        "      print(\"\\n\\n\")\n",
        "        # if action.is_done:\n",
        "        #     print(action.extracted_content)\n",
        "\n",
        "    # Close the browser after completion\n",
        "    await browser.close()\n",
        "\n",
        "# Run the asynchronous main function\n",
        "asyncio.run(main())\n"
      ]
    },
    {
      "cell_type": "code",
      "execution_count": null,
      "metadata": {
        "id": "jyVP10O_5Qck"
      },
      "outputs": [
        {
          "ename": "ModuleNotFoundError",
          "evalue": "No module named 'google.colab'",
          "output_type": "error",
          "traceback": [
            "\u001b[31m---------------------------------------------------------------------------\u001b[39m",
            "\u001b[31mModuleNotFoundError\u001b[39m                       Traceback (most recent call last)",
            "\u001b[36mCell\u001b[39m\u001b[36m \u001b[39m\u001b[32mIn[35]\u001b[39m\u001b[32m, line 2\u001b[39m\n\u001b[32m      1\u001b[39m \u001b[38;5;28;01mfrom\u001b[39;00m\u001b[38;5;250m \u001b[39m\u001b[34;01mlangchain_openai\u001b[39;00m\u001b[38;5;250m \u001b[39m\u001b[38;5;28;01mimport\u001b[39;00m ChatOpenAI\n\u001b[32m----> \u001b[39m\u001b[32m2\u001b[39m \u001b[38;5;28;01mfrom\u001b[39;00m\u001b[38;5;250m \u001b[39m\u001b[34;01mgoogle\u001b[39;00m\u001b[34;01m.\u001b[39;00m\u001b[34;01mcolab\u001b[39;00m\u001b[38;5;250m \u001b[39m\u001b[38;5;28;01mimport\u001b[39;00m userdata\n\u001b[32m      5\u001b[39m llm = ChatOpenAI(model=\u001b[33m\"\u001b[39m\u001b[33mgpt-4o-mini\u001b[39m\u001b[33m\"\u001b[39m, temperature=\u001b[32m0\u001b[39m, api_key=userdata.get(\u001b[33m'\u001b[39m\u001b[33msk-proj-JZZHAFCkiz1ryiLh3Dv6JmI1ZCLTGtJ4C9z22pRHr500f7NhDPBYxI2XB19T-0mezUjqVJ-odwT3BlbkFJ8bjzUak-pPzpTuC3u71Pb4JaowWw0PPzT9cYeQj-CkQqrQAe171s4YNcwxH8-HzKVgtuzTlXUA\u001b[39m\u001b[33m'\u001b[39m))\n",
            "\u001b[31mModuleNotFoundError\u001b[39m: No module named 'google.colab'"
          ]
        }
      ],
      "source": [
        "from langchain_openai import ChatOpenAI\n",
        "from google.colab import userdata\n",
        "\n",
        "\n",
        "llm = ChatOpenAI(model=\"gpt-4o-mini\", temperature=0, api_key=userdata.get('Open_api_key'))\n",
        "\n",
        "\n"
      ]
    },
    {
      "cell_type": "code",
      "execution_count": 32,
      "metadata": {
        "colab": {
          "base_uri": "https://localhost:8080/"
        },
        "id": "e9duizdv5cOH",
        "outputId": "a07b1702-d485-4641-c307-601e6ab34b9b"
      },
      "outputs": [
        {
          "data": {
            "text/plain": [
              "AIMessage(content='Hello! How can I assist you today?', additional_kwargs={}, response_metadata={'model': 'qwen2.5:7b', 'created_at': '2025-03-21T02:56:05.1408824Z', 'done': True, 'done_reason': 'stop', 'total_duration': 2046358800, 'load_duration': 17884600, 'prompt_eval_count': 30, 'prompt_eval_duration': 194067400, 'eval_count': 10, 'eval_duration': 1833360500, 'message': Message(role='assistant', content='', images=None, tool_calls=None)}, id='run-5953c81b-8c5d-4d93-a276-5c539700e173-0', usage_metadata={'input_tokens': 30, 'output_tokens': 10, 'total_tokens': 40})"
            ]
          },
          "execution_count": 32,
          "metadata": {},
          "output_type": "execute_result"
        }
      ],
      "source": [
        "llm.invoke(\"hi\")"
      ]
    },
    {
      "cell_type": "code",
      "execution_count": null,
      "metadata": {
        "colab": {
          "base_uri": "https://localhost:8080/"
        },
        "id": "wS8ouhiVQ2dL",
        "outputId": "653879a8-b3ac-4178-edee-5cd834e3404a"
      },
      "outputs": [
        {
          "name": "stdout",
          "output_type": "stream",
          "text": [
            "INFO     [agent] 🚀 Starting task: What is Langgraph\n",
            "INFO     [agent] 📍 Step 1\n"
          ]
        },
        {
          "name": "stderr",
          "output_type": "stream",
          "text": [
            "Task exception was never retrieved\n",
            "future: <Task finished name='Task-37' coro=<Connection.run() done, defined at c:\\Users\\peter\\anaconda3\\envs\\browser-use\\Lib\\site-packages\\playwright\\_impl\\_connection.py:272> exception=NotImplementedError()>\n",
            "Traceback (most recent call last):\n",
            "  File \"c:\\Users\\peter\\anaconda3\\envs\\browser-use\\Lib\\asyncio\\tasks.py\", line 277, in __step\n",
            "    result = coro.send(None)\n",
            "             ^^^^^^^^^^^^^^^\n",
            "  File \"c:\\Users\\peter\\anaconda3\\envs\\browser-use\\Lib\\site-packages\\playwright\\_impl\\_connection.py\", line 279, in run\n",
            "    await self._transport.connect()\n",
            "  File \"c:\\Users\\peter\\anaconda3\\envs\\browser-use\\Lib\\site-packages\\playwright\\_impl\\_transport.py\", line 133, in connect\n",
            "    raise exc\n",
            "  File \"c:\\Users\\peter\\anaconda3\\envs\\browser-use\\Lib\\site-packages\\playwright\\_impl\\_transport.py\", line 120, in connect\n",
            "    self._proc = await asyncio.create_subprocess_exec(\n",
            "                 ^^^^^^^^^^^^^^^^^^^^^^^^^^^^^^^^^^^^^\n",
            "  File \"c:\\Users\\peter\\anaconda3\\envs\\browser-use\\Lib\\asyncio\\subprocess.py\", line 223, in create_subprocess_exec\n",
            "    transport, protocol = await loop.subprocess_exec(\n",
            "                          ^^^^^^^^^^^^^^^^^^^^^^^^^^^\n",
            "  File \"c:\\Users\\peter\\anaconda3\\envs\\browser-use\\Lib\\asyncio\\base_events.py\", line 1708, in subprocess_exec\n",
            "    transport = await self._make_subprocess_transport(\n",
            "                ^^^^^^^^^^^^^^^^^^^^^^^^^^^^^^^^^^^^^^\n",
            "  File \"c:\\Users\\peter\\anaconda3\\envs\\browser-use\\Lib\\asyncio\\base_events.py\", line 503, in _make_subprocess_transport\n",
            "    raise NotImplementedError\n",
            "NotImplementedError\n"
          ]
        },
        {
          "name": "stdout",
          "output_type": "stream",
          "text": [
            "WARNING  [browser] Page load failed, continuing...\n",
            "INFO     [backoff] Backing off send_request(...) for 0.3s (requests.exceptions.ConnectionError: ('Connection aborted.', RemoteDisconnected('Remote end closed connection without response')))\n"
          ]
        },
        {
          "name": "stderr",
          "output_type": "stream",
          "text": [
            "Task exception was never retrieved\n",
            "future: <Task finished name='Task-38' coro=<Connection.run() done, defined at c:\\Users\\peter\\anaconda3\\envs\\browser-use\\Lib\\site-packages\\playwright\\_impl\\_connection.py:272> exception=NotImplementedError()>\n",
            "Traceback (most recent call last):\n",
            "  File \"c:\\Users\\peter\\anaconda3\\envs\\browser-use\\Lib\\asyncio\\tasks.py\", line 277, in __step\n",
            "    result = coro.send(None)\n",
            "             ^^^^^^^^^^^^^^^\n",
            "  File \"c:\\Users\\peter\\anaconda3\\envs\\browser-use\\Lib\\site-packages\\playwright\\_impl\\_connection.py\", line 279, in run\n",
            "    await self._transport.connect()\n",
            "  File \"c:\\Users\\peter\\anaconda3\\envs\\browser-use\\Lib\\site-packages\\playwright\\_impl\\_transport.py\", line 133, in connect\n",
            "    raise exc\n",
            "  File \"c:\\Users\\peter\\anaconda3\\envs\\browser-use\\Lib\\site-packages\\playwright\\_impl\\_transport.py\", line 120, in connect\n",
            "    self._proc = await asyncio.create_subprocess_exec(\n",
            "                 ^^^^^^^^^^^^^^^^^^^^^^^^^^^^^^^^^^^^^\n",
            "  File \"c:\\Users\\peter\\anaconda3\\envs\\browser-use\\Lib\\asyncio\\subprocess.py\", line 223, in create_subprocess_exec\n",
            "    transport, protocol = await loop.subprocess_exec(\n",
            "                          ^^^^^^^^^^^^^^^^^^^^^^^^^^^\n",
            "  File \"c:\\Users\\peter\\anaconda3\\envs\\browser-use\\Lib\\asyncio\\base_events.py\", line 1708, in subprocess_exec\n",
            "    transport = await self._make_subprocess_transport(\n",
            "                ^^^^^^^^^^^^^^^^^^^^^^^^^^^^^^^^^^^^^^\n",
            "  File \"c:\\Users\\peter\\anaconda3\\envs\\browser-use\\Lib\\asyncio\\base_events.py\", line 503, in _make_subprocess_transport\n",
            "    raise NotImplementedError\n",
            "NotImplementedError\n"
          ]
        },
        {
          "name": "stdout",
          "output_type": "stream",
          "text": [
            "ERROR    [agent] ❌ Result failed 1/3 times:\n",
            " \n",
            "INFO     [agent] 📍 Step 1\n"
          ]
        },
        {
          "name": "stderr",
          "output_type": "stream",
          "text": [
            "Task exception was never retrieved\n",
            "future: <Task finished name='Task-39' coro=<Connection.run() done, defined at c:\\Users\\peter\\anaconda3\\envs\\browser-use\\Lib\\site-packages\\playwright\\_impl\\_connection.py:272> exception=NotImplementedError()>\n",
            "Traceback (most recent call last):\n",
            "  File \"c:\\Users\\peter\\anaconda3\\envs\\browser-use\\Lib\\asyncio\\tasks.py\", line 277, in __step\n",
            "    result = coro.send(None)\n",
            "             ^^^^^^^^^^^^^^^\n",
            "  File \"c:\\Users\\peter\\anaconda3\\envs\\browser-use\\Lib\\site-packages\\playwright\\_impl\\_connection.py\", line 279, in run\n",
            "    await self._transport.connect()\n",
            "  File \"c:\\Users\\peter\\anaconda3\\envs\\browser-use\\Lib\\site-packages\\playwright\\_impl\\_transport.py\", line 133, in connect\n",
            "    raise exc\n",
            "  File \"c:\\Users\\peter\\anaconda3\\envs\\browser-use\\Lib\\site-packages\\playwright\\_impl\\_transport.py\", line 120, in connect\n",
            "    self._proc = await asyncio.create_subprocess_exec(\n",
            "                 ^^^^^^^^^^^^^^^^^^^^^^^^^^^^^^^^^^^^^\n",
            "  File \"c:\\Users\\peter\\anaconda3\\envs\\browser-use\\Lib\\asyncio\\subprocess.py\", line 223, in create_subprocess_exec\n",
            "    transport, protocol = await loop.subprocess_exec(\n",
            "                          ^^^^^^^^^^^^^^^^^^^^^^^^^^^\n",
            "  File \"c:\\Users\\peter\\anaconda3\\envs\\browser-use\\Lib\\asyncio\\base_events.py\", line 1708, in subprocess_exec\n",
            "    transport = await self._make_subprocess_transport(\n",
            "                ^^^^^^^^^^^^^^^^^^^^^^^^^^^^^^^^^^^^^^\n",
            "  File \"c:\\Users\\peter\\anaconda3\\envs\\browser-use\\Lib\\asyncio\\base_events.py\", line 503, in _make_subprocess_transport\n",
            "    raise NotImplementedError\n",
            "NotImplementedError\n"
          ]
        },
        {
          "name": "stdout",
          "output_type": "stream",
          "text": [
            "WARNING  [browser] Page load failed, continuing...\n"
          ]
        },
        {
          "name": "stderr",
          "output_type": "stream",
          "text": [
            "Task exception was never retrieved\n",
            "future: <Task finished name='Task-40' coro=<Connection.run() done, defined at c:\\Users\\peter\\anaconda3\\envs\\browser-use\\Lib\\site-packages\\playwright\\_impl\\_connection.py:272> exception=NotImplementedError()>\n",
            "Traceback (most recent call last):\n",
            "  File \"c:\\Users\\peter\\anaconda3\\envs\\browser-use\\Lib\\asyncio\\tasks.py\", line 277, in __step\n",
            "    result = coro.send(None)\n",
            "             ^^^^^^^^^^^^^^^\n",
            "  File \"c:\\Users\\peter\\anaconda3\\envs\\browser-use\\Lib\\site-packages\\playwright\\_impl\\_connection.py\", line 279, in run\n",
            "    await self._transport.connect()\n",
            "  File \"c:\\Users\\peter\\anaconda3\\envs\\browser-use\\Lib\\site-packages\\playwright\\_impl\\_transport.py\", line 133, in connect\n",
            "    raise exc\n",
            "  File \"c:\\Users\\peter\\anaconda3\\envs\\browser-use\\Lib\\site-packages\\playwright\\_impl\\_transport.py\", line 120, in connect\n",
            "    self._proc = await asyncio.create_subprocess_exec(\n",
            "                 ^^^^^^^^^^^^^^^^^^^^^^^^^^^^^^^^^^^^^\n",
            "  File \"c:\\Users\\peter\\anaconda3\\envs\\browser-use\\Lib\\asyncio\\subprocess.py\", line 223, in create_subprocess_exec\n",
            "    transport, protocol = await loop.subprocess_exec(\n",
            "                          ^^^^^^^^^^^^^^^^^^^^^^^^^^^\n",
            "  File \"c:\\Users\\peter\\anaconda3\\envs\\browser-use\\Lib\\asyncio\\base_events.py\", line 1708, in subprocess_exec\n",
            "    transport = await self._make_subprocess_transport(\n",
            "                ^^^^^^^^^^^^^^^^^^^^^^^^^^^^^^^^^^^^^^\n",
            "  File \"c:\\Users\\peter\\anaconda3\\envs\\browser-use\\Lib\\asyncio\\base_events.py\", line 503, in _make_subprocess_transport\n",
            "    raise NotImplementedError\n",
            "NotImplementedError\n"
          ]
        },
        {
          "name": "stdout",
          "output_type": "stream",
          "text": [
            "ERROR    [agent] ❌ Result failed 2/3 times:\n",
            " \n",
            "INFO     [agent] 📍 Step 1\n"
          ]
        },
        {
          "name": "stderr",
          "output_type": "stream",
          "text": [
            "Task exception was never retrieved\n",
            "future: <Task finished name='Task-41' coro=<Connection.run() done, defined at c:\\Users\\peter\\anaconda3\\envs\\browser-use\\Lib\\site-packages\\playwright\\_impl\\_connection.py:272> exception=NotImplementedError()>\n",
            "Traceback (most recent call last):\n",
            "  File \"c:\\Users\\peter\\anaconda3\\envs\\browser-use\\Lib\\asyncio\\tasks.py\", line 277, in __step\n",
            "    result = coro.send(None)\n",
            "             ^^^^^^^^^^^^^^^\n",
            "  File \"c:\\Users\\peter\\anaconda3\\envs\\browser-use\\Lib\\site-packages\\playwright\\_impl\\_connection.py\", line 279, in run\n",
            "    await self._transport.connect()\n",
            "  File \"c:\\Users\\peter\\anaconda3\\envs\\browser-use\\Lib\\site-packages\\playwright\\_impl\\_transport.py\", line 133, in connect\n",
            "    raise exc\n",
            "  File \"c:\\Users\\peter\\anaconda3\\envs\\browser-use\\Lib\\site-packages\\playwright\\_impl\\_transport.py\", line 120, in connect\n",
            "    self._proc = await asyncio.create_subprocess_exec(\n",
            "                 ^^^^^^^^^^^^^^^^^^^^^^^^^^^^^^^^^^^^^\n",
            "  File \"c:\\Users\\peter\\anaconda3\\envs\\browser-use\\Lib\\asyncio\\subprocess.py\", line 223, in create_subprocess_exec\n",
            "    transport, protocol = await loop.subprocess_exec(\n",
            "                          ^^^^^^^^^^^^^^^^^^^^^^^^^^^\n",
            "  File \"c:\\Users\\peter\\anaconda3\\envs\\browser-use\\Lib\\asyncio\\base_events.py\", line 1708, in subprocess_exec\n",
            "    transport = await self._make_subprocess_transport(\n",
            "                ^^^^^^^^^^^^^^^^^^^^^^^^^^^^^^^^^^^^^^\n",
            "  File \"c:\\Users\\peter\\anaconda3\\envs\\browser-use\\Lib\\asyncio\\base_events.py\", line 503, in _make_subprocess_transport\n",
            "    raise NotImplementedError\n",
            "NotImplementedError\n"
          ]
        },
        {
          "name": "stdout",
          "output_type": "stream",
          "text": [
            "WARNING  [browser] Page load failed, continuing...\n"
          ]
        },
        {
          "name": "stderr",
          "output_type": "stream",
          "text": [
            "Task exception was never retrieved\n",
            "future: <Task finished name='Task-42' coro=<Connection.run() done, defined at c:\\Users\\peter\\anaconda3\\envs\\browser-use\\Lib\\site-packages\\playwright\\_impl\\_connection.py:272> exception=NotImplementedError()>\n",
            "Traceback (most recent call last):\n",
            "  File \"c:\\Users\\peter\\anaconda3\\envs\\browser-use\\Lib\\asyncio\\tasks.py\", line 277, in __step\n",
            "    result = coro.send(None)\n",
            "             ^^^^^^^^^^^^^^^\n",
            "  File \"c:\\Users\\peter\\anaconda3\\envs\\browser-use\\Lib\\site-packages\\playwright\\_impl\\_connection.py\", line 279, in run\n",
            "    await self._transport.connect()\n",
            "  File \"c:\\Users\\peter\\anaconda3\\envs\\browser-use\\Lib\\site-packages\\playwright\\_impl\\_transport.py\", line 133, in connect\n",
            "    raise exc\n",
            "  File \"c:\\Users\\peter\\anaconda3\\envs\\browser-use\\Lib\\site-packages\\playwright\\_impl\\_transport.py\", line 120, in connect\n",
            "    self._proc = await asyncio.create_subprocess_exec(\n",
            "                 ^^^^^^^^^^^^^^^^^^^^^^^^^^^^^^^^^^^^^\n",
            "  File \"c:\\Users\\peter\\anaconda3\\envs\\browser-use\\Lib\\asyncio\\subprocess.py\", line 223, in create_subprocess_exec\n",
            "    transport, protocol = await loop.subprocess_exec(\n",
            "                          ^^^^^^^^^^^^^^^^^^^^^^^^^^^\n",
            "  File \"c:\\Users\\peter\\anaconda3\\envs\\browser-use\\Lib\\asyncio\\base_events.py\", line 1708, in subprocess_exec\n",
            "    transport = await self._make_subprocess_transport(\n",
            "                ^^^^^^^^^^^^^^^^^^^^^^^^^^^^^^^^^^^^^^\n",
            "  File \"c:\\Users\\peter\\anaconda3\\envs\\browser-use\\Lib\\asyncio\\base_events.py\", line 503, in _make_subprocess_transport\n",
            "    raise NotImplementedError\n",
            "NotImplementedError\n"
          ]
        },
        {
          "name": "stdout",
          "output_type": "stream",
          "text": [
            "ERROR    [agent] ❌ Result failed 3/3 times:\n",
            " \n",
            "ERROR    [agent] ❌ Stopping due to 3 consecutive failures\n"
          ]
        }
      ],
      "source": [
        "from browser_use import Agent, Browser\n",
        "from browser_use import BrowserConfig\n",
        "from langchain_openai import ChatOpenAI\n",
        "import asyncio\n",
        "\n",
        "# Basic configuration for the browser\n",
        "config = BrowserConfig(\n",
        "    headless=True,  # Run in headless mode\n",
        "    # disable_security=True  # Uncomment if you want to disable security\n",
        ")\n",
        "\n",
        "# Initialize the browser with the specified configuration\n",
        "browser = Browser(config=config)\n",
        "\n",
        "async def main():\n",
        "    # Initialize the agent with the task and language model\n",
        "    agent = Agent(\n",
        "        task=\"What is Langgraph\",\n",
        "        llm=llm,  # Replace with your LLM configuration\n",
        "        browser=browser,\n",
        "        generate_gif=False  # Disable GIF generation\n",
        "    )\n",
        "\n",
        "    # Run the agent and get results asynchronously\n",
        "    result = await agent.run()\n",
        "\n",
        "    # Process results token-wise\n",
        "    for action in result.action_results():\n",
        "      print(action.extracted_content,end=\"\\r\",flush=True)\n",
        "      print(\"\\n\\n\")\n",
        "        # if action.is_done:\n",
        "        #     print(action.extracted_content)\n",
        "\n",
        "    # Close the browser after completion\n",
        "    await browser.close()\n",
        "\n",
        "# Run the asynchronous main function\n",
        "asyncio.run(main())\n"
      ]
    },
    {
      "cell_type": "code",
      "execution_count": null,
      "metadata": {
        "colab": {
          "base_uri": "https://localhost:8080/"
        },
        "id": "TFK-fNoLDFcF",
        "outputId": "d78fbeae-c8f0-4c26-e0e3-7a0a683d3fc1"
      },
      "outputs": [],
      "source": [
        "from browser_use import Agent, Browser\n",
        "from playwright.async_api import BrowserContext\n",
        "from browser_use import BrowserConfig\n",
        "from langchain_openai import ChatOpenAI\n",
        "# from browser_use import Agent\n",
        "import asyncio\n",
        "# Basic configuration\n",
        "config = BrowserConfig(\n",
        "    headless=True,\n",
        "\n",
        "    # disable_security=True\n",
        ")\n",
        "# Reuse existing browser\n",
        "browser = Browser(config=config)\n",
        "# async def main():\n",
        "agent = Agent(\n",
        "      task=\"what is langchain\",\n",
        "      llm=llm,\n",
        "      browser=browser,\n",
        "      generate_gif = False # Browser instance will be reused\n",
        "  )\n",
        "\n",
        "result = await agent.run()\n",
        "print(result)\n",
        "# Manually close the browser\n",
        "# asyncio.run(main())\n",
        "await browser.close()\n"
      ]
    },
    {
      "cell_type": "code",
      "execution_count": null,
      "metadata": {
        "colab": {
          "base_uri": "https://localhost:8080/"
        },
        "id": "nKGC936xODry",
        "outputId": "de70d715-c30a-4d5b-9d25-40bd79d410de"
      },
      "outputs": [],
      "source": [
        "# display(result.action_results())\n",
        "for action in result.action_results():\n",
        "  if action.is_done:\n",
        "    print(action.extracted_content)\n"
      ]
    }
  ],
  "metadata": {
    "colab": {
      "provenance": []
    },
    "kernelspec": {
      "display_name": "browser-use",
      "language": "python",
      "name": "python3"
    },
    "language_info": {
      "codemirror_mode": {
        "name": "ipython",
        "version": 3
      },
      "file_extension": ".py",
      "mimetype": "text/x-python",
      "name": "python",
      "nbconvert_exporter": "python",
      "pygments_lexer": "ipython3",
      "version": "3.11.11"
    }
  },
  "nbformat": 4,
  "nbformat_minor": 0
}
