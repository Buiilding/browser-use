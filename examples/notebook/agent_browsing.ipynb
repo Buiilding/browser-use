{
  "cells": [
    {
      "cell_type": "code",
      "execution_count": null,
      "metadata": {
        "id": "ZRGlUb8O4fPV"
      },
      "outputs": [],
      "source": [
        "%pip install -U langgraph langchain_google_genai langchain_community langgraph-checkpoint-postgres  openai langchain_groq"
      ]
    },
    {
      "cell_type": "code",
      "execution_count": null,
      "metadata": {
        "id": "cMfPUmHIxqTi"
      },
      "outputs": [],
      "source": [
        "%%capture --no-stderr\n",
        "%pip install --upgrade --quiet  playwright > /dev/null\n",
        "%pip install --upgrade --quiet  lxml browser-use langchain_openai"
      ]
    },
    {
      "cell_type": "code",
      "execution_count": null,
      "metadata": {
        "id": "kkZ7jVUOUV7Q"
      },
      "outputs": [],
      "source": [
        "!playwright install"
      ]
    },
    {
      "cell_type": "code",
      "execution_count": null,
      "metadata": {
        "id": "-_T1MhnGUl2q"
      },
      "outputs": [],
      "source": [
        "!pip install \"anyio<4\""
      ]
    },
    {
      "cell_type": "code",
      "execution_count": null,
      "metadata": {
        "id": "yARYirp1UhDR"
      },
      "outputs": [],
      "source": [
        "# This import is required only for jupyter notebooks, since they have their own eventloop\n",
        "import nest_asyncio\n",
        "\n",
        "nest_asyncio.apply()"
      ]
    },
    {
      "cell_type": "code",
      "execution_count": null,
      "metadata": {},
      "outputs": [],
      "source": [
        "from langchain_ollama import ChatOllama\n",
        "from google.colab import userdata\n",
        "\n",
        "# For Ollama local setup\n",
        "llm = ChatOllama(\n",
        "    model=\"qwen2.5:7b\",\n",
        "    num_ctx=32000,  \n",
        "    )"
      ]
    },
    {
      "cell_type": "code",
      "execution_count": null,
      "metadata": {},
      "outputs": [],
      "source": [
        "from browser_use import Agent, Browser\n",
        "from browser_use import BrowserConfig\n",
        "from langchain_ollama import ChatOllama\n",
        "\n",
        "import sys\n",
        "import asyncio\n",
        "import nest_asyncio\n",
        "\n",
        "# Apply nest_asyncio to allow nested event loops in Jupyter\n",
        "nest_asyncio.apply()\n",
        "\n",
        "# Use WindowsSelectorEventLoopPolicy on Windows\n",
        "if sys.platform.startswith('win'):\n",
        "    asyncio.set_event_loop_policy(asyncio.WindowsSelectorEventLoopPolicy())\n",
        "\n",
        "llm = ChatOllama(\n",
        "    model=\"qwen2.5:7b\",\n",
        "    num_ctx=32000,  \n",
        "    )\n",
        "\n",
        "# Basic configuration for the browser\n",
        "config = BrowserConfig(\n",
        "    headless=True,  # Run in headless mode\n",
        "    # disable_security=True  # Uncomment if you want to disable security\n",
        ")\n",
        "\n",
        "# Initialize the browser with the specified configuration\n",
        "browser = Browser(config=config)\n",
        "\n",
        "async def main():\n",
        "    # Initialize the agent with the task and language model\n",
        "    agent = Agent(\n",
        "        task=\"What is Langgraph\",\n",
        "        llm=llm,  # Replace with your LLM configuration\n",
        "        browser=browser,\n",
        "        generate_gif=False  # Disable GIF generation\n",
        "    )\n",
        "\n",
        "    # Run the agent and get results asynchronously\n",
        "    result = await agent.run()\n",
        "\n",
        "    # Process results token-wise\n",
        "    for action in result.action_results():\n",
        "      print(action.extracted_content,end=\"\\r\",flush=True)\n",
        "      print(\"\\n\\n\")\n",
        "        # if action.is_done:\n",
        "        #     print(action.extracted_content)\n",
        "\n",
        "    # Close the browser after completion\n",
        "    await browser.close()\n",
        "\n",
        "# Run the asynchronous main function\n",
        "asyncio.run(main())\n"
      ]
    },
    {
      "cell_type": "code",
      "execution_count": null,
      "metadata": {
        "id": "jyVP10O_5Qck"
      },
      "outputs": [],
      "source": [
        "from langchain_openai import ChatOpenAI\n",
        "from google.colab import userdata\n",
        "\n",
        "\n",
        "llm = ChatOpenAI(model=\"gpt-4o-mini\", temperature=0, api_key=userdata.get('Open_api_key'))\n",
        "\n",
        "\n"
      ]
    },
    {
      "cell_type": "code",
      "execution_count": null,
      "metadata": {
        "colab": {
          "base_uri": "https://localhost:8080/"
        },
        "id": "e9duizdv5cOH",
        "outputId": "a07b1702-d485-4641-c307-601e6ab34b9b"
      },
      "outputs": [],
      "source": [
        "llm.invoke(\"hi\")"
      ]
    },
    {
      "cell_type": "code",
      "execution_count": null,
      "metadata": {
        "colab": {
          "base_uri": "https://localhost:8080/"
        },
        "id": "wS8ouhiVQ2dL",
        "outputId": "653879a8-b3ac-4178-edee-5cd834e3404a"
      },
      "outputs": [],
      "source": [
        "from browser_use import Agent, Browser\n",
        "from browser_use import BrowserConfig\n",
        "from langchain_openai import ChatOpenAI\n",
        "import asyncio\n",
        "\n",
        "# Basic configuration for the browser\n",
        "config = BrowserConfig(\n",
        "    headless=True,  # Run in headless mode\n",
        "    # disable_security=True  # Uncomment if you want to disable security\n",
        ")\n",
        "\n",
        "# Initialize the browser with the specified configuration\n",
        "browser = Browser(config=config)\n",
        "\n",
        "async def main():\n",
        "    # Initialize the agent with the task and language model\n",
        "    agent = Agent(\n",
        "        task=\"What is Langgraph\",\n",
        "        llm=llm,  # Replace with your LLM configuration\n",
        "        browser=browser,\n",
        "        generate_gif=False  # Disable GIF generation\n",
        "    )\n",
        "\n",
        "    # Run the agent and get results asynchronously\n",
        "    result = await agent.run()\n",
        "\n",
        "    # Process results token-wise\n",
        "    for action in result.action_results():\n",
        "      print(action.extracted_content,end=\"\\r\",flush=True)\n",
        "      print(\"\\n\\n\")\n",
        "        # if action.is_done:\n",
        "        #     print(action.extracted_content)\n",
        "\n",
        "    # Close the browser after completion\n",
        "    await browser.close()\n",
        "\n",
        "# Run the asynchronous main function\n",
        "asyncio.run(main())\n"
      ]
    },
    {
      "cell_type": "code",
      "execution_count": null,
      "metadata": {
        "colab": {
          "base_uri": "https://localhost:8080/"
        },
        "id": "TFK-fNoLDFcF",
        "outputId": "d78fbeae-c8f0-4c26-e0e3-7a0a683d3fc1"
      },
      "outputs": [],
      "source": [
        "from browser_use import Agent, Browser\n",
        "from playwright.async_api import BrowserContext\n",
        "from browser_use import BrowserConfig\n",
        "from langchain_openai import ChatOpenAI\n",
        "# from browser_use import Agent\n",
        "import asyncio\n",
        "# Basic configuration\n",
        "config = BrowserConfig(\n",
        "    headless=True,\n",
        "\n",
        "    # disable_security=True\n",
        ")\n",
        "# Reuse existing browser\n",
        "browser = Browser(config=config)\n",
        "# async def main():\n",
        "agent = Agent(\n",
        "      task=\"what is langchain\",\n",
        "      llm=llm,\n",
        "      browser=browser,\n",
        "      generate_gif = False # Browser instance will be reused\n",
        "  )\n",
        "\n",
        "result = await agent.run()\n",
        "print(result)\n",
        "# Manually close the browser\n",
        "# asyncio.run(main())\n",
        "await browser.close()\n"
      ]
    },
    {
      "cell_type": "code",
      "execution_count": null,
      "metadata": {
        "colab": {
          "base_uri": "https://localhost:8080/"
        },
        "id": "nKGC936xODry",
        "outputId": "de70d715-c30a-4d5b-9d25-40bd79d410de"
      },
      "outputs": [],
      "source": [
        "# display(result.action_results())\n",
        "for action in result.action_results():\n",
        "  if action.is_done:\n",
        "    print(action.extracted_content)\n"
      ]
    }
  ],
  "metadata": {
    "colab": {
      "provenance": []
    },
    "kernelspec": {
      "display_name": "browser-use",
      "language": "python",
      "name": "python3"
    },
    "language_info": {
      "codemirror_mode": {
        "name": "ipython",
        "version": 3
      },
      "file_extension": ".py",
      "mimetype": "text/x-python",
      "name": "python",
      "nbconvert_exporter": "python",
      "pygments_lexer": "ipython3",
      "version": "3.11.11"
    }
  },
  "nbformat": 4,
  "nbformat_minor": 0
}
